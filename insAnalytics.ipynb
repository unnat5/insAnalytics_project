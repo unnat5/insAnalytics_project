{
 "cells": [
  {
   "cell_type": "code",
   "execution_count": 609,
   "metadata": {},
   "outputs": [],
   "source": [
    "import numpy as np"
   ]
  },
  {
   "cell_type": "code",
   "execution_count": 108,
   "metadata": {},
   "outputs": [],
   "source": [
    "## Question 1\n",
    "## Max Sum square\n",
    "class Question1():\n",
    "    def __init__(self,matrix):\n",
    "        self.matrix = matrix\n",
    "        self.row,_ = matrix.shape\n",
    "        self.temp = 0\n",
    "    def find_max_sum_matrix(self):\n",
    "        row = self.row\n",
    "        x = self.matrix\n",
    "        temp = self.temp\n",
    "        for i in range(2,row):\n",
    "            steps = ((row-i)/1) + 1\n",
    "            t = 0\n",
    "            for k in range(int(steps)):\n",
    "                u = 0\n",
    "                if k != 0:\n",
    "                    t+=1\n",
    "                for j in range(int(steps)):\n",
    "                    if j != 0:\n",
    "                        u+= 1\n",
    "                    matrix = x[t:t+i,u:u+i]\n",
    "                    #print(\"-\"*10)\n",
    "                    if np.sum(matrix)>temp:\n",
    "                        final_max = matrix\n",
    "                        temp = np.sum(matrix)\n",
    "                        \n",
    "        return final_max,temp\n",
    "\n"
   ]
  },
  {
   "cell_type": "code",
   "execution_count": 610,
   "metadata": {},
   "outputs": [
    {
     "name": "stdout",
     "output_type": "stream",
     "text": [
      "[[ 5 -5  1  4  1  7  8 -3]\n",
      " [-2  0 -6  2  0  2  3  0]\n",
      " [ 3  1  6 -8 -8 -6  5 -5]\n",
      " [-5  3 -4 -5 -7 -2  7  4]\n",
      " [ 4 -2  1  5 -7 -6  1  2]\n",
      " [ 6  4  6 -6 -5  4 -8 -6]\n",
      " [-8  1 -1  8 -5 -9 -8  7]\n",
      " [-3  4  3 -5 -8  5 -6  6]]\n"
     ]
    }
   ],
   "source": [
    "x = np.random.randint(-9,9,(8,8))\n",
    "print(x)"
   ]
  },
  {
   "cell_type": "code",
   "execution_count": 360,
   "metadata": {},
   "outputs": [
    {
     "name": "stdout",
     "output_type": "stream",
     "text": [
      "[[ 6 -1 -2 -6 -5]\n",
      " [ 5  6 -5  2  8]\n",
      " [ 5  0  5  6 -1]\n",
      " [-5 -4  6 -3 -1]\n",
      " [ 8 -4  5 -6  7]]\n",
      "26\n"
     ]
    }
   ],
   "source": [
    "\n",
    "max_matrix=Question1(x)\n",
    "matrix, sum_ = max_matrix.find_max_sum_matrix()\n",
    "print(matrix)\n",
    "print(sum_)"
   ]
  },
  {
   "cell_type": "code",
   "execution_count": 361,
   "metadata": {},
   "outputs": [],
   "source": [
    "x = [[2,-8,4,-6],\n",
    "     [7,1,-5,3],\n",
    "     [-9,7,6,5],\n",
    "     [8,3,2,-4]]"
   ]
  },
  {
   "cell_type": "code",
   "execution_count": 362,
   "metadata": {},
   "outputs": [
    {
     "data": {
      "text/plain": [
       "(4, 4)"
      ]
     },
     "execution_count": 362,
     "metadata": {},
     "output_type": "execute_result"
    }
   ],
   "source": [
    "x = np.array(x)"
   ]
  },
  {
   "cell_type": "code",
   "execution_count": 363,
   "metadata": {},
   "outputs": [
    {
     "name": "stdout",
     "output_type": "stream",
     "text": [
      "[[ 7  1 -5]\n",
      " [-9  7  6]\n",
      " [ 8  3  2]]\n",
      "20\n"
     ]
    }
   ],
   "source": [
    "max_matrix=Question1(x)\n",
    "matrix, sum_ = max_matrix.find_max_sum_matrix()\n",
    "print(matrix)\n",
    "print(sum_)"
   ]
  },
  {
   "cell_type": "code",
   "execution_count": 488,
   "metadata": {},
   "outputs": [],
   "source": [
    "# Question 2\n",
    "## Build the subsequences\n",
    "def string_combinations(str_):\n",
    "    ls = []\n",
    "    string = [i for i in str_]\n",
    "    for i in range(len(string)):\n",
    "        q = string[i]\n",
    "        for j in range(len(string)):\n",
    "            for k in range(len(string)):\n",
    "                \n",
    "                t = ''.join(string[j:k]+[q])\n",
    "                if q and t not in ls :\n",
    "                    test = string[j:k]+[q]\n",
    "                    if len(set(test)) == len(test):\n",
    "                        ls.append(t)\n",
    "    return ls\n"
   ]
  },
  {
   "cell_type": "code",
   "execution_count": 611,
   "metadata": {},
   "outputs": [
    {
     "name": "stdout",
     "output_type": "stream",
     "text": [
      "['x', 'yx', 'y', 'xy', 'z', 'xz', 'xyz', 'yz']\n"
     ]
    }
   ],
   "source": [
    "string = 'xyz'\n",
    "outsub = string_combinations(string)\n",
    "print(outsub)"
   ]
  },
  {
   "cell_type": "code",
   "execution_count": 612,
   "metadata": {},
   "outputs": [
    {
     "name": "stdout",
     "output_type": "stream",
     "text": [
      "['a', 'b', 'ab']\n"
     ]
    }
   ],
   "source": [
    "string = 'ab'\n",
    "outsub2 = string_combinations(string)\n",
    "print(outsub2)"
   ]
  },
  {
   "cell_type": "code",
   "execution_count": 168,
   "metadata": {},
   "outputs": [
    {
     "name": "stdout",
     "output_type": "stream",
     "text": [
      "The required order sequence [5 6 1 2 4 3]\n"
     ]
    }
   ],
   "source": [
    "## Question 3\n",
    "# Hungry Pizza Lover\n",
    "n = 6\n",
    "order_time = [4,6,7,8,1,3]\n",
    "time_taken = [1,2,6,1,3,2]\n",
    "\n",
    "ls = []\n",
    "for i in range(n):\n",
    "    ls.append([order_time[i]+time_taken[i],order_time[i],i+1])\n",
    "    \n",
    "ls = sorted(ls)\n",
    "## if two orders take same time then which order was ordered first.\n",
    "for k in range(n-1):\n",
    "    if ls[k+1][0]==ls[k][0] and ls[k+1][1] < ls[k][1]:\n",
    "        temp = ls[k]\n",
    "        ls[k] = ls[k+1]\n",
    "        ls[k+1] = temp\n",
    "print('The required order sequence {}'.format(np.array(ls)[:,2]))"
   ]
  },
  {
   "cell_type": "code",
   "execution_count": 303,
   "metadata": {},
   "outputs": [],
   "source": [
    "## Question 4 \n",
    "## Circular Substring Problem\n",
    "import re\n",
    "def find_substring(word,target):\n",
    "    #generating regex expression\n",
    "    ls = []\n",
    "    all_lazy_match = '.*?'\n",
    "    for i in target:\n",
    "        ls.append('['+i+']')\n",
    "        ls.append(all_lazy_match)\n",
    "    expression = ''.join(ls[:-1])\n",
    "    con_word = word*2 #concatenating the word with itself.\n",
    "    f_word=re.findall(expression,con_word)\n",
    "    lengths=[len(i) for i in f_word]\n",
    "    if not lengths:\n",
    "        return -1\n",
    "    return min(lengths)"
   ]
  },
  {
   "cell_type": "code",
   "execution_count": 613,
   "metadata": {},
   "outputs": [
    {
     "name": "stdout",
     "output_type": "stream",
     "text": [
      "4\n"
     ]
    }
   ],
   "source": [
    "outc = find_substring('hackerrank','krr')\n",
    "print(outc)"
   ]
  },
  {
   "cell_type": "code",
   "execution_count": 614,
   "metadata": {},
   "outputs": [
    {
     "name": "stdout",
     "output_type": "stream",
     "text": [
      "5\n"
     ]
    }
   ],
   "source": [
    "outc1 = find_substring('melody','ldym')\n",
    "print(outc1)"
   ]
  },
  {
   "cell_type": "code",
   "execution_count": 615,
   "metadata": {},
   "outputs": [
    {
     "name": "stdout",
     "output_type": "stream",
     "text": [
      "-1\n"
     ]
    }
   ],
   "source": [
    "outc2 = find_substring('melody','insAnalytics')\n",
    "print(outc2)"
   ]
  },
  {
   "cell_type": "code",
   "execution_count": 352,
   "metadata": {},
   "outputs": [],
   "source": [
    "# Question5\n",
    "## Maximum tip calculator\n",
    "def max_tip(a,b,x,y):\n",
    "    \"\"\"\n",
    "    a: Possible tips for Ayush\n",
    "    b: Possible tips for Ankit\n",
    "    x: Number of customers Ayush can handle.\n",
    "    y: Number of customers Ankit can handle.\n",
    "    \"\"\"\n",
    "    zipped_list = list(zip(a,b))\n",
    "    ls=sorted(zipped_list,reverse=True)\n",
    "\n",
    "    ls_x = []\n",
    "    ls_y = []\n",
    "    for index,objects in enumerate(ls):\n",
    "        ai,bi = objects\n",
    "        if ai > bi and len(ls_x)<x:\n",
    "            ls_x.append(ai)\n",
    "            if len(ls_x)>x :\n",
    "                del ls_x[ls_x.index(min(ls_x))]\n",
    "        elif len(ls_y)< y:\n",
    "            ls_y.append(bi)\n",
    "            if len(ls_y)>y:\n",
    "                del ls_y[ls_y.index(min(ls_y))]\n",
    "        elif len(ls_x) < x and ai==bi:\n",
    "            ls_x.append(ai)\n",
    "    return sum(ls_x+ls_y)"
   ]
  },
  {
   "cell_type": "code",
   "execution_count": 616,
   "metadata": {},
   "outputs": [
    {
     "name": "stdout",
     "output_type": "stream",
     "text": [
      "43\n"
     ]
    }
   ],
   "source": [
    "x=4;y=4\n",
    "a = [1,4,3,2,7,5,9,6]\n",
    "b = [1,2,3,6,5,4,9,8]\n",
    "\n",
    "outmax = max_tip(a,b,x,y)\n",
    "print(outmax)"
   ]
  },
  {
   "cell_type": "code",
   "execution_count": 617,
   "metadata": {},
   "outputs": [
    {
     "name": "stdout",
     "output_type": "stream",
     "text": [
      "21\n"
     ]
    }
   ],
   "source": [
    "x=3;y=3\n",
    "a = [1,2,3,4,5]\n",
    "b = [5,4,3,2,1]\n",
    "\n",
    "outmax1 = max_tip(a,b,x,y)\n",
    "print(outmax1)"
   ]
  },
  {
   "cell_type": "code",
   "execution_count": 606,
   "metadata": {},
   "outputs": [],
   "source": [
    "# Questions 6 \n",
    "## Job Sequence Problem\n",
    "def job_sequence(job_list):\n",
    "    dicts = {}\n",
    "    lsd = []\n",
    "    time = 1\n",
    "    net_profit = 0\n",
    "    counter = 0\n",
    "    for i in range(0,len(job),3):\n",
    "        id_,deadline,profit = job[i:i+3]\n",
    "        lsd.append((profit,deadline,id_))\n",
    "        if deadline in dicts.keys():\n",
    "            dicts[deadline].append(profit)\n",
    "        else:\n",
    "            dicts[deadline] = [profit]\n",
    "    ks = []\n",
    "\n",
    "    sorted_key = sorted(set(lsd),reverse=True)\n",
    "    for _,key,id_ in sorted_key:\n",
    "        if key >=time and dicts[key] and id_ not in ks:\n",
    "            dicts[key].sort()\n",
    "            ks.append(id_)\n",
    "            net_profit += dicts[key][-1]\n",
    "            dicts[key].pop()\n",
    "            time += 1\n",
    "            counter += 1\n",
    "    return counter,net_profit            "
   ]
  },
  {
   "cell_type": "code",
   "execution_count": 618,
   "metadata": {},
   "outputs": [
    {
     "name": "stdout",
     "output_type": "stream",
     "text": [
      "2 60\n"
     ]
    }
   ],
   "source": [
    "job = [1,4,20,2,1,10,3,1,40,4,1,30]\n",
    "out0 = job_sequence(job)\n",
    "print(*out0)"
   ]
  },
  {
   "cell_type": "code",
   "execution_count": 619,
   "metadata": {},
   "outputs": [
    {
     "name": "stdout",
     "output_type": "stream",
     "text": [
      "2 127\n"
     ]
    }
   ],
   "source": [
    "job = [1,2,100,2,1,19,3,2,27,4,1,25,5,1,15]\n",
    "out = job_sequence(job)\n",
    "print(*out)"
   ]
  }
 ],
 "metadata": {
  "kernelspec": {
   "display_name": "Python 3",
   "language": "python",
   "name": "python3"
  },
  "language_info": {
   "codemirror_mode": {
    "name": "ipython",
    "version": 3
   },
   "file_extension": ".py",
   "mimetype": "text/x-python",
   "name": "python",
   "nbconvert_exporter": "python",
   "pygments_lexer": "ipython3",
   "version": "3.6.5"
  }
 },
 "nbformat": 4,
 "nbformat_minor": 2
}
